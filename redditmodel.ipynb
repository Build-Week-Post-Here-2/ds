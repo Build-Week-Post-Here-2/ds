{
  "nbformat": 4,
  "nbformat_minor": 0,
  "metadata": {
    "kernelspec": {
      "display_name": "U4-S1-NLP (numpy updates)",
      "language": "python",
      "name": "u4-s1-nlp"
    },
    "language_info": {
      "codemirror_mode": {
        "name": "ipython",
        "version": 3
      },
      "file_extension": ".py",
      "mimetype": "text/x-python",
      "name": "python",
      "nbconvert_exporter": "python",
      "pygments_lexer": "ipython3",
      "version": "3.7.0"
    },
    "colab": {
      "name": "redditmodel.ipynb",
      "provenance": [],
      "collapsed_sections": []
    }
  },
  "cells": [
    {
      "cell_type": "code",
      "metadata": {
        "id": "bJP1j0FJYiYZ",
        "colab_type": "code",
        "colab": {
          "base_uri": "https://localhost:8080/",
          "height": 717
        },
        "outputId": "a02173b3-85bc-49a1-9fdb-7282c2680a77"
      },
      "source": [
        "!pip install https://github.com/explosion/spacy-models/releases/download/en_core_web_md-2.3.1/en_core_web_md-2.3.1.tar.gz"
      ],
      "execution_count": 4,
      "outputs": [
        {
          "output_type": "stream",
          "text": [
            "Collecting https://github.com/explosion/spacy-models/releases/download/en_core_web_md-2.3.1/en_core_web_md-2.3.1.tar.gz\n",
            "\u001b[?25l  Downloading https://github.com/explosion/spacy-models/releases/download/en_core_web_md-2.3.1/en_core_web_md-2.3.1.tar.gz (50.8MB)\n",
            "\u001b[K     |████████████████████████████████| 50.8MB 75kB/s \n",
            "\u001b[?25hCollecting spacy<2.4.0,>=2.3.0\n",
            "\u001b[?25l  Downloading https://files.pythonhosted.org/packages/10/b5/c7a92c7ce5d4b353b70b4b5b4385687206c8b230ddfe08746ab0fd310a3a/spacy-2.3.2-cp36-cp36m-manylinux1_x86_64.whl (9.9MB)\n",
            "\u001b[K     |████████████████████████████████| 10.0MB 205kB/s \n",
            "\u001b[?25hRequirement already satisfied: plac<1.2.0,>=0.9.6 in /usr/local/lib/python3.6/dist-packages (from spacy<2.4.0,>=2.3.0->en-core-web-md==2.3.1) (1.1.3)\n",
            "Requirement already satisfied: srsly<1.1.0,>=1.0.2 in /usr/local/lib/python3.6/dist-packages (from spacy<2.4.0,>=2.3.0->en-core-web-md==2.3.1) (1.0.2)\n",
            "Requirement already satisfied: numpy>=1.15.0 in /usr/local/lib/python3.6/dist-packages (from spacy<2.4.0,>=2.3.0->en-core-web-md==2.3.1) (1.18.5)\n",
            "Collecting thinc==7.4.1\n",
            "\u001b[?25l  Downloading https://files.pythonhosted.org/packages/10/ae/ef3ae5e93639c0ef8e3eb32e3c18341e511b3c515fcfc603f4b808087651/thinc-7.4.1-cp36-cp36m-manylinux1_x86_64.whl (2.1MB)\n",
            "\u001b[K     |████████████████████████████████| 2.1MB 42.0MB/s \n",
            "\u001b[?25hRequirement already satisfied: murmurhash<1.1.0,>=0.28.0 in /usr/local/lib/python3.6/dist-packages (from spacy<2.4.0,>=2.3.0->en-core-web-md==2.3.1) (1.0.2)\n",
            "Requirement already satisfied: catalogue<1.1.0,>=0.0.7 in /usr/local/lib/python3.6/dist-packages (from spacy<2.4.0,>=2.3.0->en-core-web-md==2.3.1) (1.0.0)\n",
            "Requirement already satisfied: cymem<2.1.0,>=2.0.2 in /usr/local/lib/python3.6/dist-packages (from spacy<2.4.0,>=2.3.0->en-core-web-md==2.3.1) (2.0.3)\n",
            "Requirement already satisfied: blis<0.5.0,>=0.4.0 in /usr/local/lib/python3.6/dist-packages (from spacy<2.4.0,>=2.3.0->en-core-web-md==2.3.1) (0.4.1)\n",
            "Requirement already satisfied: tqdm<5.0.0,>=4.38.0 in /usr/local/lib/python3.6/dist-packages (from spacy<2.4.0,>=2.3.0->en-core-web-md==2.3.1) (4.41.1)\n",
            "Requirement already satisfied: setuptools in /usr/local/lib/python3.6/dist-packages (from spacy<2.4.0,>=2.3.0->en-core-web-md==2.3.1) (50.3.0)\n",
            "Requirement already satisfied: requests<3.0.0,>=2.13.0 in /usr/local/lib/python3.6/dist-packages (from spacy<2.4.0,>=2.3.0->en-core-web-md==2.3.1) (2.23.0)\n",
            "Requirement already satisfied: preshed<3.1.0,>=3.0.2 in /usr/local/lib/python3.6/dist-packages (from spacy<2.4.0,>=2.3.0->en-core-web-md==2.3.1) (3.0.2)\n",
            "Requirement already satisfied: wasabi<1.1.0,>=0.4.0 in /usr/local/lib/python3.6/dist-packages (from spacy<2.4.0,>=2.3.0->en-core-web-md==2.3.1) (0.8.0)\n",
            "Requirement already satisfied: importlib-metadata>=0.20; python_version < \"3.8\" in /usr/local/lib/python3.6/dist-packages (from catalogue<1.1.0,>=0.0.7->spacy<2.4.0,>=2.3.0->en-core-web-md==2.3.1) (1.7.0)\n",
            "Requirement already satisfied: chardet<4,>=3.0.2 in /usr/local/lib/python3.6/dist-packages (from requests<3.0.0,>=2.13.0->spacy<2.4.0,>=2.3.0->en-core-web-md==2.3.1) (3.0.4)\n",
            "Requirement already satisfied: certifi>=2017.4.17 in /usr/local/lib/python3.6/dist-packages (from requests<3.0.0,>=2.13.0->spacy<2.4.0,>=2.3.0->en-core-web-md==2.3.1) (2020.6.20)\n",
            "Requirement already satisfied: urllib3!=1.25.0,!=1.25.1,<1.26,>=1.21.1 in /usr/local/lib/python3.6/dist-packages (from requests<3.0.0,>=2.13.0->spacy<2.4.0,>=2.3.0->en-core-web-md==2.3.1) (1.24.3)\n",
            "Requirement already satisfied: idna<3,>=2.5 in /usr/local/lib/python3.6/dist-packages (from requests<3.0.0,>=2.13.0->spacy<2.4.0,>=2.3.0->en-core-web-md==2.3.1) (2.10)\n",
            "Requirement already satisfied: zipp>=0.5 in /usr/local/lib/python3.6/dist-packages (from importlib-metadata>=0.20; python_version < \"3.8\"->catalogue<1.1.0,>=0.0.7->spacy<2.4.0,>=2.3.0->en-core-web-md==2.3.1) (3.1.0)\n",
            "Building wheels for collected packages: en-core-web-md\n",
            "  Building wheel for en-core-web-md (setup.py) ... \u001b[?25l\u001b[?25hdone\n",
            "  Created wheel for en-core-web-md: filename=en_core_web_md-2.3.1-cp36-none-any.whl size=50916643 sha256=a5ba6704fd71113dfdce44a418e6475c4784e52d6600b34cff211d5b78cde922\n",
            "  Stored in directory: /root/.cache/pip/wheels/6e/65/3a/34cdc26d4084d1d1f1e2ec9914964759ea17aa382c53a57d9f\n",
            "Successfully built en-core-web-md\n",
            "Installing collected packages: thinc, spacy, en-core-web-md\n",
            "  Found existing installation: thinc 7.4.0\n",
            "    Uninstalling thinc-7.4.0:\n",
            "      Successfully uninstalled thinc-7.4.0\n",
            "  Found existing installation: spacy 2.2.4\n",
            "    Uninstalling spacy-2.2.4:\n",
            "      Successfully uninstalled spacy-2.2.4\n",
            "Successfully installed en-core-web-md-2.3.1 spacy-2.3.2 thinc-7.4.1\n"
          ],
          "name": "stdout"
        }
      ]
    },
    {
      "cell_type": "code",
      "metadata": {
        "id": "okwQiSSJPLHw",
        "colab_type": "code",
        "colab": {}
      },
      "source": [
        "import os\n",
        "import pickle\n",
        "\n",
        "import numpy as np\n",
        "import spacy\n",
        "\n",
        "from spacy.tokenizer import Tokenizer\n",
        "from spacy.lang.en.stop_words import STOP_WORDS\n",
        "from sklearn.feature_extraction.text import TfidfVectorizer\n",
        "from sklearn.neighbors import NearestNeighbors"
      ],
      "execution_count": 1,
      "outputs": []
    },
    {
      "cell_type": "code",
      "metadata": {
        "id": "Tl_DvYWhQZrm",
        "colab_type": "code",
        "colab": {
          "resources": {
            "http://localhost:8080/nbextensions/google.colab/files.js": {
              "data": "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",
              "ok": true,
              "headers": [
                [
                  "content-type",
                  "application/javascript"
                ]
              ],
              "status": 200,
              "status_text": ""
            }
          },
          "base_uri": "https://localhost:8080/",
          "height": 72
        },
        "outputId": "a01734fd-b484-40eb-f0a5-e4b3c92b7f4f"
      },
      "source": [
        "from google.colab import files \n",
        "uploaded = files.upload()"
      ],
      "execution_count": 2,
      "outputs": [
        {
          "output_type": "display_data",
          "data": {
            "text/html": [
              "\n",
              "     <input type=\"file\" id=\"files-37430d72-7ccd-4e4d-8215-0a47b2ac8c56\" name=\"files[]\" multiple disabled\n",
              "        style=\"border:none\" />\n",
              "     <output id=\"result-37430d72-7ccd-4e4d-8215-0a47b2ac8c56\">\n",
              "      Upload widget is only available when the cell has been executed in the\n",
              "      current browser session. Please rerun this cell to enable.\n",
              "      </output>\n",
              "      <script src=\"/nbextensions/google.colab/files.js\"></script> "
            ],
            "text/plain": [
              "<IPython.core.display.HTML object>"
            ]
          },
          "metadata": {
            "tags": []
          }
        },
        {
          "output_type": "stream",
          "text": [
            "Saving submission_db.sqlite3 to submission_db.sqlite3\n"
          ],
          "name": "stdout"
        }
      ]
    },
    {
      "cell_type": "code",
      "metadata": {
        "id": "6wHU9AHfPLHz",
        "colab_type": "code",
        "colab": {}
      },
      "source": [
        "import pandas as pd\n",
        "import sqlite3\n",
        "import numpy as np\n",
        "\n",
        "def refresh_connection_and_cursor():\n",
        "  try:\n",
        "    c.close()\n",
        "    conn.close()\n",
        "  except: pass\n",
        "  conn = sqlite3.connect('/content/submission_db.sqlite3')\n",
        "  c = conn.cursor()\n",
        "  return conn, c\n",
        "\n",
        "conn, c = refresh_connection_and_cursor()\n",
        "\n",
        "df = pd.read_sql_query(\n",
        "    \"select * from submission_table order by random() limit 100000;\", \n",
        "    conn)\n",
        "\n",
        "c.close()\n",
        "conn.close()"
      ],
      "execution_count": 3,
      "outputs": []
    },
    {
      "cell_type": "code",
      "metadata": {
        "id": "VJHnJGJVPLH2",
        "colab_type": "code",
        "colab": {
          "base_uri": "https://localhost:8080/",
          "height": 34
        },
        "outputId": "6154f382-83cf-4337-e673-3166d769965d"
      },
      "source": [
        "df.shape"
      ],
      "execution_count": 4,
      "outputs": [
        {
          "output_type": "execute_result",
          "data": {
            "text/plain": [
              "(99502, 5)"
            ]
          },
          "metadata": {
            "tags": []
          },
          "execution_count": 4
        }
      ]
    },
    {
      "cell_type": "code",
      "metadata": {
        "id": "_2KcBmuLPLH5",
        "colab_type": "code",
        "colab": {
          "base_uri": "https://localhost:8080/",
          "height": 427
        },
        "outputId": "59cfe44b-2bed-4df7-9d86-2f32d9bb2119"
      },
      "source": [
        "df.head(10)"
      ],
      "execution_count": 5,
      "outputs": [
        {
          "output_type": "execute_result",
          "data": {
            "text/html": [
              "<div>\n",
              "<style scoped>\n",
              "    .dataframe tbody tr th:only-of-type {\n",
              "        vertical-align: middle;\n",
              "    }\n",
              "\n",
              "    .dataframe tbody tr th {\n",
              "        vertical-align: top;\n",
              "    }\n",
              "\n",
              "    .dataframe thead th {\n",
              "        text-align: right;\n",
              "    }\n",
              "</style>\n",
              "<table border=\"1\" class=\"dataframe\">\n",
              "  <thead>\n",
              "    <tr style=\"text-align: right;\">\n",
              "      <th></th>\n",
              "      <th>subreddit_name</th>\n",
              "      <th>subreddit_id</th>\n",
              "      <th>subreddit_subs</th>\n",
              "      <th>title</th>\n",
              "      <th>text</th>\n",
              "    </tr>\n",
              "  </thead>\n",
              "  <tbody>\n",
              "    <tr>\n",
              "      <th>0</th>\n",
              "      <td>VALORANT</td>\n",
              "      <td>2dkvmc</td>\n",
              "      <td>645752</td>\n",
              "      <td>I made a little compil of my BigBrain Time wit...</td>\n",
              "      <td></td>\n",
              "    </tr>\n",
              "    <tr>\n",
              "      <th>1</th>\n",
              "      <td>totalwar</td>\n",
              "      <td>2rq9c</td>\n",
              "      <td>262747</td>\n",
              "      <td>Everytime when i want to kill a undead lord</td>\n",
              "      <td></td>\n",
              "    </tr>\n",
              "    <tr>\n",
              "      <th>2</th>\n",
              "      <td>cursedcomments</td>\n",
              "      <td>hw1ju</td>\n",
              "      <td>2085600</td>\n",
              "      <td>Cursed_jiggle</td>\n",
              "      <td></td>\n",
              "    </tr>\n",
              "    <tr>\n",
              "      <th>3</th>\n",
              "      <td>leagueoflegends</td>\n",
              "      <td>2rfxx</td>\n",
              "      <td>4596206</td>\n",
              "      <td>Triple end game animation that happened while ...</td>\n",
              "      <td></td>\n",
              "    </tr>\n",
              "    <tr>\n",
              "      <th>4</th>\n",
              "      <td>SkincareAddiction</td>\n",
              "      <td>2tbbg</td>\n",
              "      <td>1215975</td>\n",
              "      <td>[Humor] Me whenever someone recommends to patc...</td>\n",
              "      <td></td>\n",
              "    </tr>\n",
              "    <tr>\n",
              "      <th>5</th>\n",
              "      <td>MovieDetails</td>\n",
              "      <td>3md1s</td>\n",
              "      <td>1900076</td>\n",
              "      <td>In Annihilation, the two deer that Lena sees m...</td>\n",
              "      <td></td>\n",
              "    </tr>\n",
              "    <tr>\n",
              "      <th>6</th>\n",
              "      <td>teenagers</td>\n",
              "      <td>2rjli</td>\n",
              "      <td>2160575</td>\n",
              "      <td>Good job</td>\n",
              "      <td></td>\n",
              "    </tr>\n",
              "    <tr>\n",
              "      <th>7</th>\n",
              "      <td>starterpacks</td>\n",
              "      <td>34o9s</td>\n",
              "      <td>1578951</td>\n",
              "      <td>Growing up in an ex-soviet country starter pack</td>\n",
              "      <td></td>\n",
              "    </tr>\n",
              "    <tr>\n",
              "      <th>8</th>\n",
              "      <td>starterpacks</td>\n",
              "      <td>34o9s</td>\n",
              "      <td>1578951</td>\n",
              "      <td>Things people like to feel weirdly superior ab...</td>\n",
              "      <td></td>\n",
              "    </tr>\n",
              "    <tr>\n",
              "      <th>9</th>\n",
              "      <td>GlobalOffensive</td>\n",
              "      <td>2sqho</td>\n",
              "      <td>1187767</td>\n",
              "      <td>overpass was wild in 2014</td>\n",
              "      <td></td>\n",
              "    </tr>\n",
              "  </tbody>\n",
              "</table>\n",
              "</div>"
            ],
            "text/plain": [
              "      subreddit_name  ... text\n",
              "0           VALORANT  ...     \n",
              "1           totalwar  ...     \n",
              "2     cursedcomments  ...     \n",
              "3    leagueoflegends  ...     \n",
              "4  SkincareAddiction  ...     \n",
              "5       MovieDetails  ...     \n",
              "6          teenagers  ...     \n",
              "7       starterpacks  ...     \n",
              "8       starterpacks  ...     \n",
              "9    GlobalOffensive  ...     \n",
              "\n",
              "[10 rows x 5 columns]"
            ]
          },
          "metadata": {
            "tags": []
          },
          "execution_count": 5
        }
      ]
    },
    {
      "cell_type": "code",
      "metadata": {
        "id": "eZbFt4KYqH1Z",
        "colab_type": "code",
        "colab": {
          "base_uri": "https://localhost:8080/",
          "height": 221
        },
        "outputId": "811be27d-721d-47ae-bbe2-c45379c22694"
      },
      "source": [
        "df.info()"
      ],
      "execution_count": 6,
      "outputs": [
        {
          "output_type": "stream",
          "text": [
            "<class 'pandas.core.frame.DataFrame'>\n",
            "RangeIndex: 99502 entries, 0 to 99501\n",
            "Data columns (total 5 columns):\n",
            " #   Column          Non-Null Count  Dtype \n",
            "---  ------          --------------  ----- \n",
            " 0   subreddit_name  99502 non-null  object\n",
            " 1   subreddit_id    99502 non-null  object\n",
            " 2   subreddit_subs  99502 non-null  int64 \n",
            " 3   title           99502 non-null  object\n",
            " 4   text            99502 non-null  object\n",
            "dtypes: int64(1), object(4)\n",
            "memory usage: 3.8+ MB\n"
          ],
          "name": "stdout"
        }
      ]
    },
    {
      "cell_type": "code",
      "metadata": {
        "id": "Mu7jjW2nphUr",
        "colab_type": "code",
        "colab": {
          "base_uri": "https://localhost:8080/",
          "height": 34
        },
        "outputId": "cef64867-f738-4402-92c7-b5b242e20593"
      },
      "source": [
        "# filter out the rows with no significant subreddit text\n",
        "df = df[[len(i)>100 for i in df['text']]]\n",
        "df.shape"
      ],
      "execution_count": 7,
      "outputs": [
        {
          "output_type": "execute_result",
          "data": {
            "text/plain": [
              "(18568, 5)"
            ]
          },
          "metadata": {
            "tags": []
          },
          "execution_count": 7
        }
      ]
    },
    {
      "cell_type": "code",
      "metadata": {
        "id": "XLPP_l0hqr_P",
        "colab_type": "code",
        "colab": {
          "base_uri": "https://localhost:8080/",
          "height": 351
        },
        "outputId": "62286c6e-acaa-4478-e554-ff52dba93143"
      },
      "source": [
        "# filter out the rows with low count of subreddit_ids\n",
        "subid_count = df['subreddit_id'].value_counts(ascending=False)\n",
        "import seaborn as sns\n",
        "# y axis is density plot\n",
        "sns.distplot(subid_count);\n",
        "\n",
        "df = df.groupby('subreddit_id').filter(lambda x: (x['subreddit_id'].value_counts()>50) &\n",
        "                                       (x['subreddit_id'].value_counts()<500))\n",
        "df.shape"
      ],
      "execution_count": 8,
      "outputs": [
        {
          "output_type": "stream",
          "text": [
            "/usr/local/lib/python3.6/dist-packages/statsmodels/tools/_testing.py:19: FutureWarning: pandas.util.testing is deprecated. Use the functions in the public API at pandas.testing instead.\n",
            "  import pandas.util.testing as tm\n"
          ],
          "name": "stderr"
        },
        {
          "output_type": "execute_result",
          "data": {
            "text/plain": [
              "(16194, 5)"
            ]
          },
          "metadata": {
            "tags": []
          },
          "execution_count": 8
        },
        {
          "output_type": "display_data",
          "data": {
            "image/png": "[encoded data removed]",
            "text/plain": [
              "<Figure size 432x288 with 1 Axes>"
            ]
          },
          "metadata": {
            "tags": [],
            "needs_background": "light"
          }
        }
      ]
    },
    {
      "cell_type": "code",
      "metadata": {
        "id": "VnAN8rTvlNrH",
        "colab_type": "code",
        "colab": {
          "base_uri": "https://localhost:8080/",
          "height": 68
        },
        "outputId": "30ee9562-27d9-4b3a-a039-8d7d1dcee099"
      },
      "source": [
        "df[['title', 'text']] = df[['title', 'text']].astype('str')\n",
        "df.dtypes[['title', 'text']]"
      ],
      "execution_count": 9,
      "outputs": [
        {
          "output_type": "execute_result",
          "data": {
            "text/plain": [
              "title    object\n",
              "text     object\n",
              "dtype: object"
            ]
          },
          "metadata": {
            "tags": []
          },
          "execution_count": 9
        }
      ]
    },
    {
      "cell_type": "code",
      "metadata": {
        "id": "TE7u6t-EPLH-",
        "colab_type": "code",
        "colab": {
          "base_uri": "https://localhost:8080/",
          "height": 204
        },
        "outputId": "ddda93cb-47d4-4465-93d7-57a8a1d99089"
      },
      "source": [
        "# filter out non word and non space characters.\n",
        "# lower case and remove extra spaces\n",
        "df['clean_text'] = df['text'].str.replace(\"[^\\w\\s']\",' ').str.lower().apply(lambda row: ' '.join(row.split()))\n",
        "df['clean_title'] = df['title'].str.replace(\"[^\\w\\s']\",' ').str.lower().apply(lambda row: ' '.join(row.split()))\n",
        "df['clean_text'][:10]"
      ],
      "execution_count": 10,
      "outputs": [
        {
          "output_type": "execute_result",
          "data": {
            "text/plain": [
              "15    is this some reference i'm oblivious to why di...\n",
              "17    found a reddit user that s 15 years old and po...\n",
              "19    https www bloomberg com politics articles 2018...\n",
              "20    every guardian begins as a newborn creature wh...\n",
              "22    i'm attempting to pay a bill in euros if i try...\n",
              "23    last updated at 05 23 2019 05 23 2019 v3 1 0 w...\n",
              "24    i went to the police station with my ex s the ...\n",
              "28    i've seen a lot of bullish and bearish talk on...\n",
              "40    hi i'm rushan abbas i'm one of the uyghur peop...\n",
              "47    just saw this pop up https imgur com a 7aebm2r...\n",
              "Name: clean_text, dtype: object"
            ]
          },
          "metadata": {
            "tags": []
          },
          "execution_count": 10
        }
      ]
    },
    {
      "cell_type": "code",
      "metadata": {
        "id": "gXXq5NN0iiX5",
        "colab_type": "code",
        "colab": {
          "base_uri": "https://localhost:8080/",
          "height": 1000
        },
        "outputId": "626e4b4e-d624-4d29-8aa6-a94d9aac4cae"
      },
      "source": [
        "df['joint_text'] = df[['clean_title', 'clean_text']].agg('-'.join, axis=1)\n",
        "print(df.shape)\n",
        "df.head(10)"
      ],
      "execution_count": 11,
      "outputs": [
        {
          "output_type": "stream",
          "text": [
            "(16194, 8)\n"
          ],
          "name": "stdout"
        },
        {
          "output_type": "execute_result",
          "data": {
            "text/html": [
              "<div>\n",
              "<style scoped>\n",
              "    .dataframe tbody tr th:only-of-type {\n",
              "        vertical-align: middle;\n",
              "    }\n",
              "\n",
              "    .dataframe tbody tr th {\n",
              "        vertical-align: top;\n",
              "    }\n",
              "\n",
              "    .dataframe thead th {\n",
              "        text-align: right;\n",
              "    }\n",
              "</style>\n",
              "<table border=\"1\" class=\"dataframe\">\n",
              "  <thead>\n",
              "    <tr style=\"text-align: right;\">\n",
              "      <th></th>\n",
              "      <th>subreddit_name</th>\n",
              "      <th>subreddit_id</th>\n",
              "      <th>subreddit_subs</th>\n",
              "      <th>title</th>\n",
              "      <th>text</th>\n",
              "      <th>clean_text</th>\n",
              "      <th>clean_title</th>\n",
              "      <th>joint_text</th>\n",
              "    </tr>\n",
              "  </thead>\n",
              "  <tbody>\n",
              "    <tr>\n",
              "      <th>15</th>\n",
              "      <td>OutOfTheLoop</td>\n",
              "      <td>2xinb</td>\n",
              "      <td>1918861</td>\n",
              "      <td>What's up with the question on r/askreddit ask...</td>\n",
              "      <td>Is this some reference I'm oblivious to? Why d...</td>\n",
              "      <td>is this some reference i'm oblivious to why di...</td>\n",
              "      <td>what's up with the question on r askreddit ask...</td>\n",
              "      <td>what's up with the question on r askreddit ask...</td>\n",
              "    </tr>\n",
              "    <tr>\n",
              "      <th>17</th>\n",
              "      <td>help</td>\n",
              "      <td>2qh4a</td>\n",
              "      <td>354811</td>\n",
              "      <td>15 year old user</td>\n",
              "      <td>Found a reddit user that’s 15 years old and po...</td>\n",
              "      <td>found a reddit user that s 15 years old and po...</td>\n",
              "      <td>15 year old user</td>\n",
              "      <td>15 year old user-found a reddit user that s 15...</td>\n",
              "    </tr>\n",
              "    <tr>\n",
              "      <th>19</th>\n",
              "      <td>investing</td>\n",
              "      <td>2qhhq</td>\n",
              "      <td>1166100</td>\n",
              "      <td>Trump Signs 25% Tariff on Foreign Steel, 10% T...</td>\n",
              "      <td>https://www.bloomberg.com/politics/articles/20...</td>\n",
              "      <td>https www bloomberg com politics articles 2018...</td>\n",
              "      <td>trump signs 25 tariff on foreign steel 10 tari...</td>\n",
              "      <td>trump signs 25 tariff on foreign steel 10 tari...</td>\n",
              "    </tr>\n",
              "    <tr>\n",
              "      <th>20</th>\n",
              "      <td>DestinyTheGame</td>\n",
              "      <td>2vq0w</td>\n",
              "      <td>1771547</td>\n",
              "      <td>Humanity is totally fucked, and Zavala is the ...</td>\n",
              "      <td>Every Guardian begins as a newborn creature. W...</td>\n",
              "      <td>every guardian begins as a newborn creature wh...</td>\n",
              "      <td>humanity is totally fucked and zavala is the o...</td>\n",
              "      <td>humanity is totally fucked and zavala is the o...</td>\n",
              "    </tr>\n",
              "    <tr>\n",
              "      <th>22</th>\n",
              "      <td>PersonalFinanceCanada</td>\n",
              "      <td>2tasy</td>\n",
              "      <td>243862</td>\n",
              "      <td>[RANT] As a Canadian, I just have to say that ...</td>\n",
              "      <td>I'm attempting to pay a bill in Euros. If I tr...</td>\n",
              "      <td>i'm attempting to pay a bill in euros if i try...</td>\n",
              "      <td>rant as a canadian i just have to say that we ...</td>\n",
              "      <td>rant as a canadian i just have to say that we ...</td>\n",
              "    </tr>\n",
              "    <tr>\n",
              "      <th>23</th>\n",
              "      <td>jailbreak</td>\n",
              "      <td>2r8c5</td>\n",
              "      <td>560790</td>\n",
              "      <td>[Release] unc0ver v3.1.0 is now out - The bigg...</td>\n",
              "      <td>Last updated at: 05/23/2019\\n\\n05/23/2019 - v3...</td>\n",
              "      <td>last updated at 05 23 2019 05 23 2019 v3 1 0 w...</td>\n",
              "      <td>release unc0ver v3 1 0 is now out the biggest ...</td>\n",
              "      <td>release unc0ver v3 1 0 is now out the biggest ...</td>\n",
              "    </tr>\n",
              "    <tr>\n",
              "      <th>24</th>\n",
              "      <td>legaladvice</td>\n",
              "      <td>2rawz</td>\n",
              "      <td>1348164</td>\n",
              "      <td>UPDATE Ex is saying that she lives with me and...</td>\n",
              "      <td>I went to the police station with my ex’s(the ...</td>\n",
              "      <td>i went to the police station with my ex s the ...</td>\n",
              "      <td>update ex is saying that she lives with me and...</td>\n",
              "      <td>update ex is saying that she lives with me and...</td>\n",
              "    </tr>\n",
              "    <tr>\n",
              "      <th>28</th>\n",
              "      <td>stocks</td>\n",
              "      <td>2qjfk</td>\n",
              "      <td>852723</td>\n",
              "      <td>Beyond Meat (BYND) fundamental analysis with m...</td>\n",
              "      <td>I've seen a lot of bullish and bearish talk on...</td>\n",
              "      <td>i've seen a lot of bullish and bearish talk on...</td>\n",
              "      <td>beyond meat bynd fundamental analysis with my ...</td>\n",
              "      <td>beyond meat bynd fundamental analysis with my ...</td>\n",
              "    </tr>\n",
              "    <tr>\n",
              "      <th>40</th>\n",
              "      <td>IAmA</td>\n",
              "      <td>2qzb6</td>\n",
              "      <td>20451737</td>\n",
              "      <td>I am Rushan Abbas - Uyghur Activist and surviv...</td>\n",
              "      <td>Hi, I'm Rushan Abbas. I'm  one of the Uyghur P...</td>\n",
              "      <td>hi i'm rushan abbas i'm one of the uyghur peop...</td>\n",
              "      <td>i am rushan abbas uyghur activist and survivor...</td>\n",
              "      <td>i am rushan abbas uyghur activist and survivor...</td>\n",
              "    </tr>\n",
              "    <tr>\n",
              "      <th>47</th>\n",
              "      <td>Twitch</td>\n",
              "      <td>2s0fe</td>\n",
              "      <td>862435</td>\n",
              "      <td>DrDisrepect banned on twitch??</td>\n",
              "      <td>Just saw this pop  up.\\n\\n[https://imgur.com/a...</td>\n",
              "      <td>just saw this pop up https imgur com a 7aebm2r...</td>\n",
              "      <td>drdisrepect banned on twitch</td>\n",
              "      <td>drdisrepect banned on twitch-just saw this pop...</td>\n",
              "    </tr>\n",
              "  </tbody>\n",
              "</table>\n",
              "</div>"
            ],
            "text/plain": [
              "           subreddit_name  ...                                         joint_text\n",
              "15           OutOfTheLoop  ...  what's up with the question on r askreddit ask...\n",
              "17                   help  ...  15 year old user-found a reddit user that s 15...\n",
              "19              investing  ...  trump signs 25 tariff on foreign steel 10 tari...\n",
              "20         DestinyTheGame  ...  humanity is totally fucked and zavala is the o...\n",
              "22  PersonalFinanceCanada  ...  rant as a canadian i just have to say that we ...\n",
              "23              jailbreak  ...  release unc0ver v3 1 0 is now out the biggest ...\n",
              "24            legaladvice  ...  update ex is saying that she lives with me and...\n",
              "28                 stocks  ...  beyond meat bynd fundamental analysis with my ...\n",
              "40                   IAmA  ...  i am rushan abbas uyghur activist and survivor...\n",
              "47                 Twitch  ...  drdisrepect banned on twitch-just saw this pop...\n",
              "\n",
              "[10 rows x 8 columns]"
            ]
          },
          "metadata": {
            "tags": []
          },
          "execution_count": 11
        }
      ]
    },
    {
      "cell_type": "code",
      "metadata": {
        "id": "m9u3ZsULOLRJ",
        "colab_type": "code",
        "colab": {
          "base_uri": "https://localhost:8080/",
          "height": 34
        },
        "outputId": "15560953-4ad7-4b3e-ab0e-df47c44c3db9"
      },
      "source": [
        "# Number of subreddit categories to classify on\n",
        "len(df['subreddit_name'].value_counts())"
      ],
      "execution_count": 12,
      "outputs": [
        {
          "output_type": "execute_result",
          "data": {
            "text/plain": [
              "56"
            ]
          },
          "metadata": {
            "tags": []
          },
          "execution_count": 12
        }
      ]
    },
    {
      "cell_type": "code",
      "metadata": {
        "id": "4Fz7K53zrURp",
        "colab_type": "code",
        "colab": {}
      },
      "source": [
        "# Sample 50 subreddit in each category\n",
        "df = df.groupby('subreddit_name').apply(lambda x: x.sample(n=50, replace=False, random_state=1)).reset_index(drop = True)"
      ],
      "execution_count": 13,
      "outputs": []
    },
    {
      "cell_type": "code",
      "metadata": {
        "id": "-MMcDs2isr5F",
        "colab_type": "code",
        "colab": {
          "base_uri": "https://localhost:8080/",
          "height": 986
        },
        "outputId": "a0a6eb38-920e-4156-c886-09611a03d8e9"
      },
      "source": [
        "df['subreddit_name'].value_counts()"
      ],
      "execution_count": 14,
      "outputs": [
        {
          "output_type": "execute_result",
          "data": {
            "text/plain": [
              "explainlikeimfive        50\n",
              "VALORANT                 50\n",
              "OutOfTheLoop             50\n",
              "TheSilphRoad             50\n",
              "unpopularopinion         50\n",
              "books                    50\n",
              "dndnext                  50\n",
              "investing                50\n",
              "Home                     50\n",
              "pcgaming                 50\n",
              "cringe                   50\n",
              "AskMen                   50\n",
              "techsupport              50\n",
              "assassinscreed           50\n",
              "DotA2                    50\n",
              "sex                      50\n",
              "pathofexile              50\n",
              "nba                      50\n",
              "sysadmin                 50\n",
              "DestinyTheGame           50\n",
              "help                     50\n",
              "Twitch                   50\n",
              "changemyview             50\n",
              "LifeProTips              50\n",
              "PersonalFinanceCanada    50\n",
              "offmychest               50\n",
              "IAmA                     50\n",
              "tifu                     50\n",
              "atheism                  50\n",
              "summonerschool           50\n",
              "buildapc                 50\n",
              "AskHistorians            50\n",
              "apple                    50\n",
              "fo76                     50\n",
              "singapore                50\n",
              "jailbreak                50\n",
              "legaladvice              50\n",
              "Games                    50\n",
              "history                  50\n",
              "TwoXChromosomes          50\n",
              "Instagram                50\n",
              "Cooking                  50\n",
              "Jokes                    50\n",
              "UnresolvedMysteries      50\n",
              "leagueoflegends          50\n",
              "askscience               50\n",
              "relationship_advice      50\n",
              "stocks                   50\n",
              "NoStupidQuestions        50\n",
              "Fitness                  50\n",
              "skyrimmods               50\n",
              "EscapefromTarkov         50\n",
              "copypasta                50\n",
              "AskWomen                 50\n",
              "personalfinance          50\n",
              "NintendoSwitch           50\n",
              "Name: subreddit_name, dtype: int64"
            ]
          },
          "metadata": {
            "tags": []
          },
          "execution_count": 14
        }
      ]
    },
    {
      "cell_type": "code",
      "metadata": {
        "id": "HObk1FditHrR",
        "colab_type": "code",
        "colab": {
          "base_uri": "https://localhost:8080/",
          "height": 683
        },
        "outputId": "1308ad91-9499-4a6b-bd8f-a5f287d7a4b9"
      },
      "source": [
        "print(df.shape)\n",
        "df.head()"
      ],
      "execution_count": 15,
      "outputs": [
        {
          "output_type": "stream",
          "text": [
            "(2800, 8)\n"
          ],
          "name": "stdout"
        },
        {
          "output_type": "execute_result",
          "data": {
            "text/html": [
              "<div>\n",
              "<style scoped>\n",
              "    .dataframe tbody tr th:only-of-type {\n",
              "        vertical-align: middle;\n",
              "    }\n",
              "\n",
              "    .dataframe tbody tr th {\n",
              "        vertical-align: top;\n",
              "    }\n",
              "\n",
              "    .dataframe thead th {\n",
              "        text-align: right;\n",
              "    }\n",
              "</style>\n",
              "<table border=\"1\" class=\"dataframe\">\n",
              "  <thead>\n",
              "    <tr style=\"text-align: right;\">\n",
              "      <th></th>\n",
              "      <th>subreddit_name</th>\n",
              "      <th>subreddit_id</th>\n",
              "      <th>subreddit_subs</th>\n",
              "      <th>title</th>\n",
              "      <th>text</th>\n",
              "      <th>clean_text</th>\n",
              "      <th>clean_title</th>\n",
              "      <th>joint_text</th>\n",
              "    </tr>\n",
              "  </thead>\n",
              "  <tbody>\n",
              "    <tr>\n",
              "      <th>0</th>\n",
              "      <td>AskHistorians</td>\n",
              "      <td>2ssp3</td>\n",
              "      <td>1254238</td>\n",
              "      <td>What would a \"Top 50 Companies of 30AD\" in the...</td>\n",
              "      <td>Looking at top 50 companies of the world in 20...</td>\n",
              "      <td>looking at top 50 companies of the world in 20...</td>\n",
              "      <td>what would a top 50 companies of 30ad in the r...</td>\n",
              "      <td>what would a top 50 companies of 30ad in the r...</td>\n",
              "    </tr>\n",
              "    <tr>\n",
              "      <th>1</th>\n",
              "      <td>AskHistorians</td>\n",
              "      <td>2ssp3</td>\n",
              "      <td>1254238</td>\n",
              "      <td>TIL that Tsar Nicholas II asked his first cous...</td>\n",
              "      <td>I've been reading about WW1 a lot recently, an...</td>\n",
              "      <td>i've been reading about ww1 a lot recently and...</td>\n",
              "      <td>til that tsar nicholas ii asked his first cous...</td>\n",
              "      <td>til that tsar nicholas ii asked his first cous...</td>\n",
              "    </tr>\n",
              "    <tr>\n",
              "      <th>2</th>\n",
              "      <td>AskHistorians</td>\n",
              "      <td>2ssp3</td>\n",
              "      <td>1254238</td>\n",
              "      <td>Did people in the past really have more leisur...</td>\n",
              "      <td>There’s a semi-common claim online these days ...</td>\n",
              "      <td>there s a semi common claim online these days ...</td>\n",
              "      <td>did people in the past really have more leisur...</td>\n",
              "      <td>did people in the past really have more leisur...</td>\n",
              "    </tr>\n",
              "    <tr>\n",
              "      <th>3</th>\n",
              "      <td>AskHistorians</td>\n",
              "      <td>2ssp3</td>\n",
              "      <td>1254238</td>\n",
              "      <td>Marco Polo is quoted to have said on his death...</td>\n",
              "      <td>It is also possible that the quote refers to t...</td>\n",
              "      <td>it is also possible that the quote refers to t...</td>\n",
              "      <td>marco polo is quoted to have said on his death...</td>\n",
              "      <td>marco polo is quoted to have said on his death...</td>\n",
              "    </tr>\n",
              "    <tr>\n",
              "      <th>4</th>\n",
              "      <td>AskHistorians</td>\n",
              "      <td>2ssp3</td>\n",
              "      <td>1254238</td>\n",
              "      <td>Tomorrow, 152 years ago, John Wilkes Booth wal...</td>\n",
              "      <td>I was watching the Ken Burns \"Civil War\" docum...</td>\n",
              "      <td>i was watching the ken burns civil war documen...</td>\n",
              "      <td>tomorrow 152 years ago john wilkes booth walke...</td>\n",
              "      <td>tomorrow 152 years ago john wilkes booth walke...</td>\n",
              "    </tr>\n",
              "  </tbody>\n",
              "</table>\n",
              "</div>"
            ],
            "text/plain": [
              "  subreddit_name  ...                                         joint_text\n",
              "0  AskHistorians  ...  what would a top 50 companies of 30ad in the r...\n",
              "1  AskHistorians  ...  til that tsar nicholas ii asked his first cous...\n",
              "2  AskHistorians  ...  did people in the past really have more leisur...\n",
              "3  AskHistorians  ...  marco polo is quoted to have said on his death...\n",
              "4  AskHistorians  ...  tomorrow 152 years ago john wilkes booth walke...\n",
              "\n",
              "[5 rows x 8 columns]"
            ]
          },
          "metadata": {
            "tags": []
          },
          "execution_count": 15
        }
      ]
    },
    {
      "cell_type": "code",
      "metadata": {
        "id": "U-q9lwQEPLIG",
        "colab_type": "code",
        "colab": {
          "base_uri": "https://localhost:8080/",
          "height": 34
        },
        "outputId": "9cb080fe-a0f9-4f4a-818c-8d7b1f780373"
      },
      "source": [
        "#Create the nlp object\n",
        "nlp = spacy.load(\"en_core_web_md\")\n",
        "# Use Spacy Embedding to vectorize df['join_text']\n",
        "X = pd.DataFrame([nlp(str(d)).vector for d in df['joint_text']])\n",
        "y = df['subreddit_name']\n",
        "X.shape,  y.shape\n"
      ],
      "execution_count": 29,
      "outputs": [
        {
          "output_type": "execute_result",
          "data": {
            "text/plain": [
              "((2800, 300), (2800,))"
            ]
          },
          "metadata": {
            "tags": []
          },
          "execution_count": 29
        }
      ]
    },
    {
      "cell_type": "code",
      "metadata": {
        "id": "scjeu5zioL6_",
        "colab_type": "code",
        "colab": {}
      },
      "source": [
        "from sklearn.model_selection import train_test_split\n",
        "\n",
        "#split dataset into train and test data\n",
        "X_train, X_test, y_train, y_test = train_test_split(X, y, \n",
        "                                                    test_size=0.2, \n",
        "                                                    random_state=1, \n",
        "                                                    shuffle=True,\n",
        "                                                    stratify=y)"
      ],
      "execution_count": 41,
      "outputs": []
    },
    {
      "cell_type": "code",
      "metadata": {
        "id": "_YB2e3qQF7uH",
        "colab_type": "code",
        "colab": {
          "base_uri": "https://localhost:8080/",
          "height": 34
        },
        "outputId": "686a76f4-f95f-43b3-e1f8-a4a2e222876d"
      },
      "source": [
        "X_train.shape, y_train.shape"
      ],
      "execution_count": 42,
      "outputs": [
        {
          "output_type": "execute_result",
          "data": {
            "text/plain": [
              "((2240, 300), (2240,))"
            ]
          },
          "metadata": {
            "tags": []
          },
          "execution_count": 42
        }
      ]
    },
    {
      "cell_type": "code",
      "metadata": {
        "id": "NVd2VbqEo4-s",
        "colab_type": "code",
        "colab": {
          "base_uri": "https://localhost:8080/",
          "height": 34
        },
        "outputId": "e08c8fb0-3f20-4771-a6be-e7b3ca19d50d"
      },
      "source": [
        "# column and row\n",
        "X[0].shape, X.iloc[0].shape"
      ],
      "execution_count": 49,
      "outputs": [
        {
          "output_type": "execute_result",
          "data": {
            "text/plain": [
              "((2800,), (300,))"
            ]
          },
          "metadata": {
            "tags": []
          },
          "execution_count": 49
        }
      ]
    },
    {
      "cell_type": "code",
      "metadata": {
        "id": "7qEQxPmGpDTx",
        "colab_type": "code",
        "colab": {
          "base_uri": "https://localhost:8080/",
          "height": 68
        },
        "outputId": "0b7e0f04-17a4-46cb-f2b8-9ad9a2f9c192"
      },
      "source": [
        "from sklearn.neighbors import KNeighborsClassifier, NearestNeighbors\n",
        "# Create KNN classifier\n",
        "knn = KNeighborsClassifier(n_neighbors = 15)\n",
        "nn = NearestNeighbors(n_neighbors = 15)\n",
        "\n",
        "# Fit the classifier to the data\n",
        "knn.fit(X_train.values, y_train.values)\n",
        "nn.fit(X_train.values)\n"
      ],
      "execution_count": 75,
      "outputs": [
        {
          "output_type": "execute_result",
          "data": {
            "text/plain": [
              "NearestNeighbors(algorithm='auto', leaf_size=30, metric='minkowski',\n",
              "                 metric_params=None, n_jobs=None, n_neighbors=15, p=2,\n",
              "                 radius=1.0)"
            ]
          },
          "metadata": {
            "tags": []
          },
          "execution_count": 75
        }
      ]
    },
    {
      "cell_type": "code",
      "metadata": {
        "id": "vZPrHSkt--0Z",
        "colab_type": "code",
        "colab": {
          "base_uri": "https://localhost:8080/",
          "height": 34
        },
        "outputId": "af53dcb6-e4ce-4d2d-d68e-bc4d8d4b7423"
      },
      "source": [
        "knn.score(X_test.values, y_test.values)"
      ],
      "execution_count": 51,
      "outputs": [
        {
          "output_type": "execute_result",
          "data": {
            "text/plain": [
              "0.29464285714285715"
            ]
          },
          "metadata": {
            "tags": []
          },
          "execution_count": 51
        }
      ]
    },
    {
      "cell_type": "code",
      "metadata": {
        "id": "YjUc-XRIdarN",
        "colab_type": "code",
        "colab": {}
      },
      "source": [
        "def prediction0(model, text, n):\n",
        "  knnsub = model.kneighbors(nlp(text).vector.reshape(1,-1))\n",
        "  return df['subreddit_name'].iloc[knnsub[1][0]].drop_duplicates()[:n]"
      ],
      "execution_count": 113,
      "outputs": []
    },
    {
      "cell_type": "code",
      "metadata": {
        "id": "6w3hnpKe_OoM",
        "colab_type": "code",
        "colab": {
          "base_uri": "https://localhost:8080/",
          "height": 221
        },
        "outputId": "ef58b9c4-95a2-4d2d-e95b-b7015b333cb3"
      },
      "source": [
        "print(df['subreddit_name'].iloc[0])\n",
        "pred = prediction0(knn, df['joint_text'].iloc[0],10)\n",
        "pred"
      ],
      "execution_count": 122,
      "outputs": [
        {
          "output_type": "stream",
          "text": [
            "AskHistorians\n"
          ],
          "name": "stdout"
        },
        {
          "output_type": "execute_result",
          "data": {
            "text/plain": [
              "1049    TwoXChromosomes\n",
              "134            AskWomen\n",
              "1718               fo76\n",
              "205      DestinyTheGame\n",
              "1421           buildapc\n",
              "1608            dndnext\n",
              "1361              books\n",
              "1158              apple\n",
              "649               Jokes\n",
              "1802            history\n",
              "Name: subreddit_name, dtype: object"
            ]
          },
          "metadata": {
            "tags": []
          },
          "execution_count": 122
        }
      ]
    },
    {
      "cell_type": "code",
      "metadata": {
        "id": "xRdK7yv2_r0L",
        "colab_type": "code",
        "colab": {
          "base_uri": "https://localhost:8080/",
          "height": 86
        },
        "outputId": "d38aed0c-a3e0-463d-c4ff-57389846a15f"
      },
      "source": [
        "df['joint_text'].iloc[0]"
      ],
      "execution_count": 120,
      "outputs": [
        {
          "output_type": "execute_result",
          "data": {
            "application/vnd.google.colaboratory.intrinsic+json": {
              "type": "string"
            },
            "text/plain": [
              "'what would a top 50 companies of 30ad in the roman world look like-looking at top 50 companies of the world in 2017 made me think how would it compare to past preindustrial lists and even later medieval europe up to the 1500s would it be dominated by agro business and arms manufacturers'"
            ]
          },
          "metadata": {
            "tags": []
          },
          "execution_count": 120
        }
      ]
    },
    {
      "cell_type": "code",
      "metadata": {
        "id": "p48KfbNd_zNs",
        "colab_type": "code",
        "colab": {
          "base_uri": "https://localhost:8080/",
          "height": 204
        },
        "outputId": "f6200a75-f0a4-4a0b-8e30-fe2005a0ddff"
      },
      "source": [
        "df['joint_text'].iloc[pred.index]"
      ],
      "execution_count": 123,
      "outputs": [
        {
          "output_type": "execute_result",
          "data": {
            "text/plain": [
              "1049    yea these masks aren't fun but when was the la...\n",
              "134     stolen from r askmen what change did you make ...\n",
              "1718    bethesda pr is out in full force in the sub ag...\n",
              "205     make the farm an actual farm let us plant plan...\n",
              "1421    completed my custom computer case meet the t m...\n",
              "1608    hot take sorcerers should not have spellcastin...\n",
              "1361    remember use your libraries-i know this sub ha...\n",
              "1158    apple stepped up their customer service game t...\n",
              "649     why is spider man so good at comebacks-because...\n",
              "1802    europeans discovered america 1000 before the n...\n",
              "Name: joint_text, dtype: object"
            ]
          },
          "metadata": {
            "tags": []
          },
          "execution_count": 123
        }
      ]
    },
    {
      "cell_type": "code",
      "metadata": {
        "id": "NeFU719Y_zUz",
        "colab_type": "code",
        "colab": {
          "base_uri": "https://localhost:8080/",
          "height": 119
        },
        "outputId": "a72dd567-9345-44e3-874a-ccd7c70d4ed8"
      },
      "source": [
        "user_input = \"\"\"Wildfires sweeping through the West Coast killed at least 36 people, CNN reports\n",
        "- The fires have burned across a total of some 4.5 million acres (1.8 million hectares) in Oregon, California, Washington and Idaho, according to Reuters\n",
        "- Wildfires are causing dangerous air quality and emitting record amounts of carbon dioxide\"\"\"\n",
        "pred = prediction0(knn, user_input, 5)\n",
        "pred"
      ],
      "execution_count": 124,
      "outputs": [
        {
          "output_type": "execute_result",
          "data": {
            "text/plain": [
              "1774       help\n",
              "1620    dndnext\n",
              "1171      apple\n",
              "2080        nba\n",
              "1713       fo76\n",
              "Name: subreddit_name, dtype: object"
            ]
          },
          "metadata": {
            "tags": []
          },
          "execution_count": 124
        }
      ]
    },
    {
      "cell_type": "code",
      "metadata": {
        "id": "rtbvh4jC_zRY",
        "colab_type": "code",
        "colab": {
          "base_uri": "https://localhost:8080/",
          "height": 119
        },
        "outputId": "58009bed-17b5-45f2-83f0-d3be902ff766"
      },
      "source": [
        "df['joint_text'].iloc[pred.index]"
      ],
      "execution_count": 125,
      "outputs": [
        {
          "output_type": "execute_result",
          "data": {
            "text/plain": [
              "1774    reddit is spamming me-reddit keeps on spamming...\n",
              "1620    say that you'll like to play to d d and nobody...\n",
              "1171    fyi apple deletes your apple music library if ...\n",
              "2080    nike claims the ninja style headbands unprofes...\n",
              "1713    saw a level 105 at the overseer's camp wondere...\n",
              "Name: joint_text, dtype: object"
            ]
          },
          "metadata": {
            "tags": []
          },
          "execution_count": 125
        }
      ]
    },
    {
      "cell_type": "code",
      "metadata": {
        "id": "YOqhT-Lkbace",
        "colab_type": "code",
        "colab": {}
      },
      "source": [
        ""
      ],
      "execution_count": 105,
      "outputs": []
    },
    {
      "cell_type": "code",
      "metadata": {
        "id": "PdFTtvgLAFL0",
        "colab_type": "code",
        "colab": {}
      },
      "source": [
        "import pickle\n",
        "# pickle knn model\n",
        "knnPickle = open('knnpickle', 'wb') \n",
        "pickle.dump(knn, knnPickle)   \n",
        "\n",
        "# pickle the dataframe\n",
        "df['subreddit_name'].to_pickle(\"./namedf.pkl\")\n",
        "\n",
        "# nlp pickle\n",
        "nlpPickle = open('nlppickle', 'wb') \n",
        "pickle.dump(nlp, nlpPickle) "
      ],
      "execution_count": 126,
      "outputs": []
    },
    {
      "cell_type": "code",
      "metadata": {
        "id": "3jFLfxKhAFby",
        "colab_type": "code",
        "colab": {}
      },
      "source": [
        "loaded_model = pickle.load(open('knnpickle', 'rb'))\n",
        "loaded_nlp = pickle.load(open('nlppickle', 'rb'))\n",
        "loaded_df = pd.read_pickle(\"./namedf.pkl\")"
      ],
      "execution_count": 127,
      "outputs": []
    },
    {
      "cell_type": "code",
      "metadata": {
        "id": "1QAcz9kzpJbU",
        "colab_type": "code",
        "colab": {}
      },
      "source": [
        "def prediction(pmodel, pnlp, pdf, text, n):\n",
        "  knnsub = pmodel.kneighbors(nlp(text).vector.reshape(1,-1))\n",
        "  return pdf.iloc[knnsub[1][0]].drop_duplicates()[:n]"
      ],
      "execution_count": 135,
      "outputs": []
    },
    {
      "cell_type": "code",
      "metadata": {
        "id": "dpy8Bwg0vUUt",
        "colab_type": "code",
        "colab": {
          "base_uri": "https://localhost:8080/",
          "height": 34
        },
        "outputId": "cc7cfeb4-c02b-4655-c48b-d21807d9e698"
      },
      "source": [
        "type(user_input)"
      ],
      "execution_count": 136,
      "outputs": [
        {
          "output_type": "execute_result",
          "data": {
            "text/plain": [
              "str"
            ]
          },
          "metadata": {
            "tags": []
          },
          "execution_count": 136
        }
      ]
    },
    {
      "cell_type": "code",
      "metadata": {
        "id": "v6_EwMcYpzK2",
        "colab_type": "code",
        "colab": {
          "base_uri": "https://localhost:8080/",
          "height": 204
        },
        "outputId": "a691043d-982f-49e4-cd55-baecfe55f544"
      },
      "source": [
        "prediction(loaded_model, loaded_nlp, loaded_df, user_input, 10)"
      ],
      "execution_count": 137,
      "outputs": [
        {
          "output_type": "execute_result",
          "data": {
            "text/plain": [
              "1774              help\n",
              "1620           dndnext\n",
              "1171             apple\n",
              "2080               nba\n",
              "1713              fo76\n",
              "355            Fitness\n",
              "1291    assassinscreed\n",
              "542               IAmA\n",
              "2031       legaladvice\n",
              "2178       pathofexile\n",
              "Name: subreddit_name, dtype: object"
            ]
          },
          "metadata": {
            "tags": []
          },
          "execution_count": 137
        }
      ]
    }
  ]
}